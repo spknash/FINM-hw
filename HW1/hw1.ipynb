{
 "cells": [
  {
   "cell_type": "markdown",
   "metadata": {},
   "source": [
    "# FINM HW1"
   ]
  },
  {
   "cell_type": "markdown",
   "metadata": {},
   "source": [
    "## Problem 1"
   ]
  },
  {
   "cell_type": "markdown",
   "metadata": {},
   "source": [
    "### 1. The HMC framing of the portfolio allocation problem."
   ]
  },
  {
   "cell_type": "markdown",
   "metadata": {},
   "source": [
    "1a). Why does HMC focus on real returns when analyzing its portfolio allocation? Is this just a\n",
    "matter of scaling, or does using real returns versus nominal returns potentially change the\n",
    "MV solution?\n",
    "\n",
    "Real returns subtracts inflation so it gives a more accurate view of how the stock actually did. 4% increase doesn't mean much if inflation was 5%"
   ]
  },
  {
   "cell_type": "markdown",
   "metadata": {},
   "source": [
    "1b.) There are thousands of individual risky assets in which HMC can invest. Explain why MV\n",
    "optimization across 1,000 securities is infeasible.\n",
    "\n",
    "MV optimization is very intensive -- it would take too long to do optimization on anything more than certain number of variables"
   ]
  },
  {
   "cell_type": "markdown",
   "metadata": {},
   "source": [
    "1c.) Rather than optimize across all securities directly, HMC runs a two-stage optimization.\n",
    "First, they build asset class portfolios with each one optimized over the securities of the\n",
    "specific asset class. Second, HMC combines the asset-class portfolios into one total opti-\n",
    "mized portfolio.\n",
    "In order for the two-stage optimization to be a good approximation of the full MV-optimization\n",
    "on all assets, what must be true of the partition of securities into asset classes?\n",
    "\n",
    "\n",
    "The classification of the of each security in asset classes must be accurate. Some securities may not act the same way as the average stock in a specific asset class"
   ]
  },
  {
   "cell_type": "markdown",
   "metadata": {},
   "source": [
    "1d.) Should TIPS form a new asset class or be grouped into one of the other 11 classes?\n",
    "\n",
    "Yes, TIPS should be a new asset class, there is no historical data on it."
   ]
  },
  {
   "cell_type": "markdown",
   "metadata": {},
   "source": [
    "### 2. Portfolio Constraints\n",
    "\n",
    "The case discusses the fact that Harvard places bounds on the portfolio allocation rather than\n",
    "implementing whatever numbers come out of the MV optimization problem.\n"
   ]
  },
  {
   "cell_type": "markdown",
   "metadata": {},
   "source": [
    "2a.) How might we adjust the stated optimization problem in the lecture notes to reflect the\n",
    "extra constraints Harvard is using in their bounded solutions given in Exhibits 5 and 6. Just\n",
    "consider how we might rewrite the optimization; don’t try to solve this extra-constrained\n",
    "optimization.\n",
    "Add equations rectricting min and max of each asset to the optimization problem.\n",
    "\n",
    "2b.)  Exhibits 5 shows zero allocation to domestic equities and domestic bonds across the entire\n",
    "computed range of targeted returns, (5.75% to 7.25%). Conceptually, why is the constraint\n",
    "binding in all these cases? What would the unconstrained portfolio want to do with those\n",
    "allocations and why?\n",
    "\n",
    "unconstrained portfolio would want to increase share past 7.25 but is not allowed to due to constraints. \n",
    "\n",
    "2c.) Exhibit 6 changes the constraints, (tightening them in most cases.) How much deterioration\n",
    "do we see in the mean-variance tradeoff that Harvard achieved?\n",
    "\n",
    "some deterioration"
   ]
  },
  {
   "cell_type": "markdown",
   "metadata": {},
   "source": [
    "## Problem 2"
   ]
  },
  {
   "cell_type": "markdown",
   "metadata": {},
   "source": []
  },
  {
   "cell_type": "markdown",
   "metadata": {},
   "source": [
    "## Problem 3"
   ]
  }
 ],
 "metadata": {
  "kernelspec": {
   "display_name": "base",
   "language": "python",
   "name": "python3"
  },
  "language_info": {
   "name": "python",
   "version": "3.9.12"
  }
 },
 "nbformat": 4,
 "nbformat_minor": 2
}
