{
 "cells": [
  {
   "cell_type": "markdown",
   "metadata": {},
   "source": [
    "# FINM HW3"
   ]
  },
  {
   "cell_type": "markdown",
   "metadata": {},
   "source": [
    "## Part 1"
   ]
  },
  {
   "cell_type": "markdown",
   "metadata": {},
   "source": [
    "## Part 2"
   ]
  },
  {
   "cell_type": "markdown",
   "metadata": {},
   "source": [
    "### 1. The Factors \n",
    "\n",
    "Calculate their univariate performance statistics:\n",
    "* Mean\n",
    "* Volatility\n",
    "* Sharpe\n",
    "* VaR"
   ]
  },
  {
   "cell_type": "markdown",
   "metadata": {},
   "source": [
    "### 2. \n",
    "The factors are constructed in such a way as to reduce correlation between them.\n",
    "Report the correlation matrix across the three factors. Does the construction method succeed\n",
    "in keeping correlations small?"
   ]
  },
  {
   "cell_type": "markdown",
   "metadata": {},
   "source": [
    "### 3. \n",
    "Plot the cumulative returns of the factors."
   ]
  },
  {
   "cell_type": "markdown",
   "metadata": {},
   "source": [
    "### 4. Test assets.\n",
    "The “assets” tab provides monthly excess return data on various industry stock-portfolios.\n",
    "Denote these as ri, for n = 1,...,12. Calculate the (annualized) univariate statistics from 1.1"
   ]
  },
  {
   "cell_type": "markdown",
   "metadata": {},
   "source": [
    "### 5. \n",
    "Can the difference in mean excess returns of the portfolios be explained by differences in their\n",
    "volatilities? Or by their VaR(.05) statistics?\n"
   ]
  },
  {
   "cell_type": "markdown",
   "metadata": {},
   "source": [
    "## Problem 3"
   ]
  },
  {
   "cell_type": "markdown",
   "metadata": {},
   "source": [
    "### 1.\n",
    "For each of the n = 12 test assets, run the CAPM time-series regression"
   ]
  },
  {
   "cell_type": "markdown",
   "metadata": {},
   "source": [
    "### 2.\n",
    "Report the estimated βi,mkt, Treynor Ratio, αi, and Information Ratio for each of the n regressions."
   ]
  },
  {
   "cell_type": "markdown",
   "metadata": {},
   "source": [
    "### 3.\n",
    "If (CAPM) were true, what would be true of the Treynor Ratios, alphas, and Information Ratios?"
   ]
  },
  {
   "cell_type": "markdown",
   "metadata": {},
   "source": [
    "### 4.\n",
    "Calculate the mean-absolute-error of the estimated alphas.\n",
    "\n",
    "If the pricing model worked, should these alpha estimates be large or small? Why? Based on\n",
    "your MAE stat, does this seem to support the pricing model or not?"
   ]
  },
  {
   "cell_type": "markdown",
   "metadata": {},
   "source": [
    "## Problem 4"
   ]
  },
  {
   "cell_type": "markdown",
   "metadata": {},
   "source": [
    "### 1.\n",
    "For each regression, report the estimated α and r-squared."
   ]
  },
  {
   "cell_type": "markdown",
   "metadata": {},
   "source": [
    "### 2.\n",
    "Calculate the mean-absolute-error of the estimated alphas.\n",
    "\n",
    "If the pricing model worked, should these alpha estimates be large or small? Why? Based on\n",
    "your MAE stat, does this seem to support the pricing model or not?\n"
   ]
  },
  {
   "cell_type": "markdown",
   "metadata": {},
   "source": [
    "## Problem 5 (Extensions)"
   ]
  }
 ],
 "metadata": {
  "kernelspec": {
   "display_name": "base",
   "language": "python",
   "name": "python3"
  },
  "language_info": {
   "name": "python",
   "version": "3.9.12"
  }
 },
 "nbformat": 4,
 "nbformat_minor": 2
}
