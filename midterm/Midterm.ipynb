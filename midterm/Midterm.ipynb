{
 "cells": [
  {
   "cell_type": "markdown",
   "id": "29b2f936",
   "metadata": {},
   "source": [
    "# Midterm\n",
    "\n",
    "## FINM 25000 - 2024\n",
    "\n",
    "### UChicago Financial Mathematics\n",
    "\n",
    "* Mark Hendricks\n",
    "* hendricks@uchicago.edu"
   ]
  },
  {
   "cell_type": "markdown",
   "id": "af28e7fd",
   "metadata": {},
   "source": [
    "# Instructions"
   ]
  },
  {
   "cell_type": "markdown",
   "id": "a4dd63ff",
   "metadata": {},
   "source": [
    "## Please note the following:\n",
    "\n",
    "Points\n",
    "* The exam is `115` points.\n",
    "* You have `180` minutes to complete the exam.\n",
    "* For every minute late you submit the exam, you will lose one point.\n",
    "\n",
    "Submission\n",
    "* You will upload your solution to the `Midterm` assignment on Canvas. (Be sure to **submit** on Canvas, not just **save** on Canvas.\n",
    "* Your submission should be readable, (the graders can understand your answers,) and it should **include all code used in your analysis in a file format that the code can be executed.** \n",
    "\n",
    "Rules\n",
    "* The exam is open-material, closed-communication.\n",
    "* You do not need to cite material from the course github repo--you are welcome to use the code posted there without citation.\n",
    "\n",
    "Advice\n",
    "* If you find any question to be unclear, state your interpretation and proceed. We will only answer questions of interpretation if there is a typo, error, etc.\n",
    "* The exam will be graded for partial credit."
   ]
  },
  {
   "cell_type": "markdown",
   "id": "1960a3c5",
   "metadata": {},
   "source": [
    "## Data\n",
    "\n",
    "**All data files are found in the class github repo, in the `data` folder.**\n",
    "\n",
    "This exam makes use of the following data files:\n",
    "* `midterm_data.xlsx`\n",
    "\n",
    "This file has sheets for...\n",
    "* `info` - names of each stock ticker\n",
    "* `excess returns` - weekly excess returns on several stocks\n",
    "* `SPY` - weekly excess returns on SPY\n",
    "* `forecasting` - monthly data on `USO` asset returns and two forecasting signals.\n",
    "\n",
    "Note \n",
    "* the data for `excess returns` and `SPY` is **weekly** so any annualizations should use `52` weeks in a year.\n",
    "* the data for `forecasting` is monthly, so any annualization should use `12` months in a year."
   ]
  },
  {
   "cell_type": "markdown",
   "id": "336f6568",
   "metadata": {},
   "source": [
    "#### If useful\n",
    "here is code to load in the data."
   ]
  },
  {
   "cell_type": "code",
   "execution_count": 30,
   "id": "0015b7a4",
   "metadata": {},
   "outputs": [
    {
     "name": "stderr",
     "output_type": "stream",
     "text": [
      "/Users/suhaaskatikaneni/opt/anaconda3/lib/python3.9/site-packages/scipy/__init__.py:146: UserWarning: A NumPy version >=1.16.5 and <1.23.0 is required for this version of SciPy (detected version 1.26.1\n",
      "  warnings.warn(f\"A NumPy version >={np_minversion} and <{np_maxversion}\"\n"
     ]
    }
   ],
   "source": [
    "import pandas as pd\n",
    "import numpy as np\n",
    "import statsmodels.api as sm\n",
    "import seaborn as sns\n",
    "import matplotlib.pyplot as plt"
   ]
  },
  {
   "cell_type": "code",
   "execution_count": 37,
   "id": "344abdac",
   "metadata": {},
   "outputs": [],
   "source": [
    "FILEIN = 'midterm_data.xlsx'\n",
    "sheet_exrets = 'excess returns'\n",
    "sheet_spy = 'spy'\n",
    "\n",
    "retsx = pd.read_excel(FILEIN, sheet_name=sheet_exrets).set_index('date')\n",
    "spy = pd.read_excel(FILEIN, sheet_name=sheet_spy).set_index('date')\n",
    "forecasting = pd.read_excel(FILEIN, sheet_name='forecasting').set_index('date')"
   ]
  },
  {
   "cell_type": "code",
   "execution_count": 3,
   "id": "800afbde",
   "metadata": {},
   "outputs": [
    {
     "data": {
      "text/html": [
       "<div>\n",
       "<style scoped>\n",
       "    .dataframe tbody tr th:only-of-type {\n",
       "        vertical-align: middle;\n",
       "    }\n",
       "\n",
       "    .dataframe tbody tr th {\n",
       "        vertical-align: top;\n",
       "    }\n",
       "\n",
       "    .dataframe thead th {\n",
       "        text-align: right;\n",
       "    }\n",
       "</style>\n",
       "<table border=\"1\" class=\"dataframe\">\n",
       "  <thead>\n",
       "    <tr style=\"text-align: right;\">\n",
       "      <th></th>\n",
       "      <th>AAPL</th>\n",
       "      <th>MSFT</th>\n",
       "      <th>AMZN</th>\n",
       "      <th>NVDA</th>\n",
       "      <th>GOOGL</th>\n",
       "      <th>TSLA</th>\n",
       "      <th>XOM</th>\n",
       "    </tr>\n",
       "    <tr>\n",
       "      <th>date</th>\n",
       "      <th></th>\n",
       "      <th></th>\n",
       "      <th></th>\n",
       "      <th></th>\n",
       "      <th></th>\n",
       "      <th></th>\n",
       "      <th></th>\n",
       "    </tr>\n",
       "  </thead>\n",
       "  <tbody>\n",
       "    <tr>\n",
       "      <th>2016-01-15</th>\n",
       "      <td>-0.006077</td>\n",
       "      <td>-0.033445</td>\n",
       "      <td>-0.068591</td>\n",
       "      <td>-0.092883</td>\n",
       "      <td>-0.035777</td>\n",
       "      <td>-0.036346</td>\n",
       "      <td>0.030855</td>\n",
       "    </tr>\n",
       "    <tr>\n",
       "      <th>2016-01-22</th>\n",
       "      <td>0.045278</td>\n",
       "      <td>0.026605</td>\n",
       "      <td>0.047061</td>\n",
       "      <td>0.050539</td>\n",
       "      <td>0.050316</td>\n",
       "      <td>-0.010817</td>\n",
       "      <td>-0.011908</td>\n",
       "    </tr>\n",
       "    <tr>\n",
       "      <th>2016-01-29</th>\n",
       "      <td>-0.051720</td>\n",
       "      <td>0.042053</td>\n",
       "      <td>-0.027223</td>\n",
       "      <td>0.018024</td>\n",
       "      <td>0.009834</td>\n",
       "      <td>-0.067483</td>\n",
       "      <td>0.005221</td>\n",
       "    </tr>\n",
       "    <tr>\n",
       "      <th>2016-02-05</th>\n",
       "      <td>-0.036236</td>\n",
       "      <td>-0.096825</td>\n",
       "      <td>-0.151901</td>\n",
       "      <td>-0.104974</td>\n",
       "      <td>-0.082989</td>\n",
       "      <td>-0.156939</td>\n",
       "      <td>0.021309</td>\n",
       "    </tr>\n",
       "    <tr>\n",
       "      <th>2016-02-12</th>\n",
       "      <td>-0.007887</td>\n",
       "      <td>-0.000785</td>\n",
       "      <td>0.002275</td>\n",
       "      <td>-0.034052</td>\n",
       "      <td>-0.003101</td>\n",
       "      <td>-0.078688</td>\n",
       "      <td>0.013486</td>\n",
       "    </tr>\n",
       "    <tr>\n",
       "      <th>...</th>\n",
       "      <td>...</td>\n",
       "      <td>...</td>\n",
       "      <td>...</td>\n",
       "      <td>...</td>\n",
       "      <td>...</td>\n",
       "      <td>...</td>\n",
       "      <td>...</td>\n",
       "    </tr>\n",
       "    <tr>\n",
       "      <th>2023-06-16</th>\n",
       "      <td>0.022605</td>\n",
       "      <td>0.048275</td>\n",
       "      <td>0.017411</td>\n",
       "      <td>0.101882</td>\n",
       "      <td>0.011357</td>\n",
       "      <td>0.066761</td>\n",
       "      <td>-0.020323</td>\n",
       "    </tr>\n",
       "    <tr>\n",
       "      <th>2023-06-23</th>\n",
       "      <td>0.007143</td>\n",
       "      <td>-0.023729</td>\n",
       "      <td>0.028225</td>\n",
       "      <td>-0.013688</td>\n",
       "      <td>-0.012008</td>\n",
       "      <td>-0.017497</td>\n",
       "      <td>-0.028343</td>\n",
       "    </tr>\n",
       "    <tr>\n",
       "      <th>2023-06-30</th>\n",
       "      <td>0.044200</td>\n",
       "      <td>0.021626</td>\n",
       "      <td>0.013113</td>\n",
       "      <td>0.007353</td>\n",
       "      <td>-0.016430</td>\n",
       "      <td>0.025297</td>\n",
       "      <td>0.052513</td>\n",
       "    </tr>\n",
       "    <tr>\n",
       "      <th>2023-07-07</th>\n",
       "      <td>0.001491</td>\n",
       "      <td>0.008703</td>\n",
       "      <td>0.014003</td>\n",
       "      <td>0.023204</td>\n",
       "      <td>0.016614</td>\n",
       "      <td>0.066815</td>\n",
       "      <td>-0.019683</td>\n",
       "    </tr>\n",
       "    <tr>\n",
       "      <th>2023-07-14</th>\n",
       "      <td>-0.020457</td>\n",
       "      <td>0.003273</td>\n",
       "      <td>0.017247</td>\n",
       "      <td>0.049274</td>\n",
       "      <td>0.029206</td>\n",
       "      <td>0.004816</td>\n",
       "      <td>-0.042030</td>\n",
       "    </tr>\n",
       "  </tbody>\n",
       "</table>\n",
       "<p>392 rows × 7 columns</p>\n",
       "</div>"
      ],
      "text/plain": [
       "                AAPL      MSFT      AMZN      NVDA     GOOGL      TSLA  \\\n",
       "date                                                                     \n",
       "2016-01-15 -0.006077 -0.033445 -0.068591 -0.092883 -0.035777 -0.036346   \n",
       "2016-01-22  0.045278  0.026605  0.047061  0.050539  0.050316 -0.010817   \n",
       "2016-01-29 -0.051720  0.042053 -0.027223  0.018024  0.009834 -0.067483   \n",
       "2016-02-05 -0.036236 -0.096825 -0.151901 -0.104974 -0.082989 -0.156939   \n",
       "2016-02-12 -0.007887 -0.000785  0.002275 -0.034052 -0.003101 -0.078688   \n",
       "...              ...       ...       ...       ...       ...       ...   \n",
       "2023-06-16  0.022605  0.048275  0.017411  0.101882  0.011357  0.066761   \n",
       "2023-06-23  0.007143 -0.023729  0.028225 -0.013688 -0.012008 -0.017497   \n",
       "2023-06-30  0.044200  0.021626  0.013113  0.007353 -0.016430  0.025297   \n",
       "2023-07-07  0.001491  0.008703  0.014003  0.023204  0.016614  0.066815   \n",
       "2023-07-14 -0.020457  0.003273  0.017247  0.049274  0.029206  0.004816   \n",
       "\n",
       "                 XOM  \n",
       "date                  \n",
       "2016-01-15  0.030855  \n",
       "2016-01-22 -0.011908  \n",
       "2016-01-29  0.005221  \n",
       "2016-02-05  0.021309  \n",
       "2016-02-12  0.013486  \n",
       "...              ...  \n",
       "2023-06-16 -0.020323  \n",
       "2023-06-23 -0.028343  \n",
       "2023-06-30  0.052513  \n",
       "2023-07-07 -0.019683  \n",
       "2023-07-14 -0.042030  \n",
       "\n",
       "[392 rows x 7 columns]"
      ]
     },
     "metadata": {},
     "output_type": "display_data"
    }
   ],
   "source": [
    "display(retsx)"
   ]
  },
  {
   "cell_type": "code",
   "execution_count": 4,
   "id": "4ce2f633",
   "metadata": {},
   "outputs": [
    {
     "data": {
      "text/html": [
       "<div>\n",
       "<style scoped>\n",
       "    .dataframe tbody tr th:only-of-type {\n",
       "        vertical-align: middle;\n",
       "    }\n",
       "\n",
       "    .dataframe tbody tr th {\n",
       "        vertical-align: top;\n",
       "    }\n",
       "\n",
       "    .dataframe thead th {\n",
       "        text-align: right;\n",
       "    }\n",
       "</style>\n",
       "<table border=\"1\" class=\"dataframe\">\n",
       "  <thead>\n",
       "    <tr style=\"text-align: right;\">\n",
       "      <th></th>\n",
       "      <th>SPY</th>\n",
       "    </tr>\n",
       "    <tr>\n",
       "      <th>date</th>\n",
       "      <th></th>\n",
       "    </tr>\n",
       "  </thead>\n",
       "  <tbody>\n",
       "    <tr>\n",
       "      <th>2016-01-15</th>\n",
       "      <td>-0.021430</td>\n",
       "    </tr>\n",
       "    <tr>\n",
       "      <th>2016-01-22</th>\n",
       "      <td>0.014429</td>\n",
       "    </tr>\n",
       "    <tr>\n",
       "      <th>2016-01-29</th>\n",
       "      <td>0.016801</td>\n",
       "    </tr>\n",
       "    <tr>\n",
       "      <th>2016-02-05</th>\n",
       "      <td>-0.029789</td>\n",
       "    </tr>\n",
       "    <tr>\n",
       "      <th>2016-02-12</th>\n",
       "      <td>-0.007023</td>\n",
       "    </tr>\n",
       "    <tr>\n",
       "      <th>...</th>\n",
       "      <td>...</td>\n",
       "    </tr>\n",
       "    <tr>\n",
       "      <th>2023-06-16</th>\n",
       "      <td>0.026036</td>\n",
       "    </tr>\n",
       "    <tr>\n",
       "      <th>2023-06-23</th>\n",
       "      <td>-0.014222</td>\n",
       "    </tr>\n",
       "    <tr>\n",
       "      <th>2023-06-30</th>\n",
       "      <td>0.023245</td>\n",
       "    </tr>\n",
       "    <tr>\n",
       "      <th>2023-07-07</th>\n",
       "      <td>-0.010670</td>\n",
       "    </tr>\n",
       "    <tr>\n",
       "      <th>2023-07-14</th>\n",
       "      <td>0.024467</td>\n",
       "    </tr>\n",
       "  </tbody>\n",
       "</table>\n",
       "<p>392 rows × 1 columns</p>\n",
       "</div>"
      ],
      "text/plain": [
       "                 SPY\n",
       "date                \n",
       "2016-01-15 -0.021430\n",
       "2016-01-22  0.014429\n",
       "2016-01-29  0.016801\n",
       "2016-02-05 -0.029789\n",
       "2016-02-12 -0.007023\n",
       "...              ...\n",
       "2023-06-16  0.026036\n",
       "2023-06-23 -0.014222\n",
       "2023-06-30  0.023245\n",
       "2023-07-07 -0.010670\n",
       "2023-07-14  0.024467\n",
       "\n",
       "[392 rows x 1 columns]"
      ]
     },
     "metadata": {},
     "output_type": "display_data"
    }
   ],
   "source": [
    "display(spy)"
   ]
  },
  {
   "cell_type": "code",
   "execution_count": 38,
   "id": "ca99ba55",
   "metadata": {},
   "outputs": [
    {
     "data": {
      "text/html": [
       "<div>\n",
       "<style scoped>\n",
       "    .dataframe tbody tr th:only-of-type {\n",
       "        vertical-align: middle;\n",
       "    }\n",
       "\n",
       "    .dataframe tbody tr th {\n",
       "        vertical-align: top;\n",
       "    }\n",
       "\n",
       "    .dataframe thead th {\n",
       "        text-align: right;\n",
       "    }\n",
       "</style>\n",
       "<table border=\"1\" class=\"dataframe\">\n",
       "  <thead>\n",
       "    <tr style=\"text-align: right;\">\n",
       "      <th></th>\n",
       "      <th>USO</th>\n",
       "      <th>Tnote rate</th>\n",
       "      <th>Tnote rate change</th>\n",
       "    </tr>\n",
       "    <tr>\n",
       "      <th>date</th>\n",
       "      <th></th>\n",
       "      <th></th>\n",
       "      <th></th>\n",
       "    </tr>\n",
       "  </thead>\n",
       "  <tbody>\n",
       "    <tr>\n",
       "      <th>2009-05-31</th>\n",
       "      <td>0.27</td>\n",
       "      <td>3.46</td>\n",
       "      <td>0.34</td>\n",
       "    </tr>\n",
       "    <tr>\n",
       "      <th>2009-06-30</th>\n",
       "      <td>0.04</td>\n",
       "      <td>3.52</td>\n",
       "      <td>0.06</td>\n",
       "    </tr>\n",
       "    <tr>\n",
       "      <th>2009-07-31</th>\n",
       "      <td>-0.03</td>\n",
       "      <td>3.50</td>\n",
       "      <td>-0.02</td>\n",
       "    </tr>\n",
       "    <tr>\n",
       "      <th>2009-08-31</th>\n",
       "      <td>-0.02</td>\n",
       "      <td>3.40</td>\n",
       "      <td>-0.10</td>\n",
       "    </tr>\n",
       "    <tr>\n",
       "      <th>2009-09-30</th>\n",
       "      <td>0.00</td>\n",
       "      <td>3.31</td>\n",
       "      <td>-0.09</td>\n",
       "    </tr>\n",
       "    <tr>\n",
       "      <th>...</th>\n",
       "      <td>...</td>\n",
       "      <td>...</td>\n",
       "      <td>...</td>\n",
       "    </tr>\n",
       "    <tr>\n",
       "      <th>2023-07-31</th>\n",
       "      <td>0.15</td>\n",
       "      <td>3.96</td>\n",
       "      <td>0.14</td>\n",
       "    </tr>\n",
       "    <tr>\n",
       "      <th>2023-08-31</th>\n",
       "      <td>0.03</td>\n",
       "      <td>4.09</td>\n",
       "      <td>0.13</td>\n",
       "    </tr>\n",
       "    <tr>\n",
       "      <th>2023-09-30</th>\n",
       "      <td>0.08</td>\n",
       "      <td>4.57</td>\n",
       "      <td>0.48</td>\n",
       "    </tr>\n",
       "    <tr>\n",
       "      <th>2023-10-31</th>\n",
       "      <td>-0.07</td>\n",
       "      <td>4.88</td>\n",
       "      <td>0.30</td>\n",
       "    </tr>\n",
       "    <tr>\n",
       "      <th>2023-11-30</th>\n",
       "      <td>-0.03</td>\n",
       "      <td>4.27</td>\n",
       "      <td>-0.60</td>\n",
       "    </tr>\n",
       "  </tbody>\n",
       "</table>\n",
       "<p>175 rows × 3 columns</p>\n",
       "</div>"
      ],
      "text/plain": [
       "             USO  Tnote rate  Tnote rate change\n",
       "date                                           \n",
       "2009-05-31  0.27        3.46               0.34\n",
       "2009-06-30  0.04        3.52               0.06\n",
       "2009-07-31 -0.03        3.50              -0.02\n",
       "2009-08-31 -0.02        3.40              -0.10\n",
       "2009-09-30  0.00        3.31              -0.09\n",
       "...          ...         ...                ...\n",
       "2023-07-31  0.15        3.96               0.14\n",
       "2023-08-31  0.03        4.09               0.13\n",
       "2023-09-30  0.08        4.57               0.48\n",
       "2023-10-31 -0.07        4.88               0.30\n",
       "2023-11-30 -0.03        4.27              -0.60\n",
       "\n",
       "[175 rows x 3 columns]"
      ]
     },
     "metadata": {},
     "output_type": "display_data"
    }
   ],
   "source": [
    "display(forecasting)"
   ]
  },
  {
   "cell_type": "markdown",
   "id": "d0af33e1",
   "metadata": {},
   "source": [
    "## Scoring\n",
    "\n",
    "| Problem | Points |\n",
    "|---------|--------|\n",
    "| 1       | 50     |\n",
    "| 2       | 25     |\n",
    "| 3       | 20     |\n",
    "| 4       | 20     |"
   ]
  },
  {
   "cell_type": "markdown",
   "id": "c158c236",
   "metadata": {},
   "source": [
    "### Each numbered question is worth 5 points."
   ]
  },
  {
   "cell_type": "markdown",
   "id": "362090a7",
   "metadata": {},
   "source": [
    "### Notation\n",
    "(Hidden LaTeX commands)\n",
    "\n",
    "$$\\newcommand{\\mux}{\\tilde{\\boldsymbol{\\mu}}}$$\n",
    "$$\\newcommand{\\wtan}{\\boldsymbol{\\text{w}}^{\\text{tan}}}$$\n",
    "$$\\newcommand{\\wtarg}{\\boldsymbol{\\text{w}}^{\\text{port}}}$$\n",
    "$$\\newcommand{\\mutarg}{\\tilde{\\boldsymbol{\\mu}}^{\\text{port}}}$$\n",
    "$$\\newcommand{\\wEW}{\\boldsymbol{\\text{w}}^{\\text{EW}}}$$\n",
    "$$\\newcommand{\\wRP}{\\boldsymbol{\\text{w}}^{\\text{RP}}}$$\n",
    "$$\\newcommand{\\wREG}{\\boldsymbol{\\text{w}}^{\\text{REG}}}$$\n",
    "$$\\newcommand{\\targ}{\\text{USO}}$$"
   ]
  },
  {
   "cell_type": "markdown",
   "id": "40926a81",
   "metadata": {},
   "source": [
    "# 1. Short Answer"
   ]
  },
  {
   "cell_type": "markdown",
   "id": "d29c0d60",
   "metadata": {},
   "source": [
    "### No Data Needed\n",
    "\n",
    "These problem does not require any data file. Rather, analyze the situation conceptually, based on the information below. "
   ]
  },
  {
   "cell_type": "markdown",
   "id": "d086f971",
   "metadata": {},
   "source": [
    "### 1\n",
    "\n",
    "In what sense was ProShares `HDG` successful in hedging the `HFRI`, and in what sense was it unsuccessful in tracking the `HFRI`?"
   ]
  },
  {
   "cell_type": "markdown",
   "id": "fccc3bc9",
   "metadata": {},
   "source": [
    "ProShares HDG was successful in hedging the HFRI in the sense that it was very good at mimicking hedge funds and allowing investors and opportunity to diversify the hedge funds do. HDG was not successfull in in tracking the HFRI in the sense that hedge fund replication is a new field, and it is not clear whether delivering hedge fund beta exposure accomplishes anything, because the point of a hedge fund is to deliver alpha. Additionally, the number of factors used by HDG is debateble and may not fully encompass the factors considered by hedge funds."
   ]
  },
  {
   "cell_type": "markdown",
   "id": "ea8b7e68",
   "metadata": {},
   "source": [
    "### 2\n",
    "\n",
    "Did we find that **TIPS** have been useful in expanding the mean-variance frontier in the past? Did we conclude they might be useful in the future? Explain."
   ]
  },
  {
   "cell_type": "markdown",
   "id": "eab0aa5f",
   "metadata": {},
   "source": [
    "TIPS have historically been useful in expanding the mean-variance frontier in the past. This is because TIPS had low correlation with many other assets which makes it an attractive asset to include in a portfolio to hedge against other assets. They may be in the future as well because they are still an asset class that has low correlation with other assets like SPY. "
   ]
  },
  {
   "cell_type": "markdown",
   "id": "8b88f0d5-333a-4c33-af1a-48c97c5a1880",
   "metadata": {},
   "source": [
    "### 3.\n",
    "\n",
    "Consider a Linear Factor Pricing Model (LFPM).\n",
    "\n",
    "Which metric do we examine to understand its fit, (or errors)?"
   ]
  },
  {
   "cell_type": "markdown",
   "id": "99c953dd",
   "metadata": {},
   "source": [
    "An LFPM shows returns of an assets based on its exposure to different risk factors. The metric used to evaluate fit is R squared which measures the amount of variability that is accounted for by the model."
   ]
  },
  {
   "cell_type": "markdown",
   "id": "ea97348b",
   "metadata": {},
   "source": [
    "### 4.\n",
    "\n",
    "What aspect of the classic mean-variance optimization approach leads to extreme answers? How did regularization help with this issue?"
   ]
  },
  {
   "cell_type": "markdown",
   "id": "1743912f",
   "metadata": {},
   "source": [
    "Mean-variance optimization can lead to extreme answers when all factors or highly correlated. The optimization also depends highly on the expected returns value which may not always be accurate. Small changes in expected returns can propogate into large changes in the mean variance optimization weights which is not ideal. Regularization helps with this issue be lessening the impact that a small difference in expected returns can have."
   ]
  },
  {
   "cell_type": "markdown",
   "id": "3d1b97d0-6219-4980-af49-da979de90d33",
   "metadata": {},
   "source": [
    "### 5.\n",
    "\n",
    "Suppose investors are **not** mean-variance investors. If we find an investment with a Sharpe ratio higher than the \"market\", would this would be inconsistent with the CAPM?"
   ]
  },
  {
   "cell_type": "markdown",
   "id": "740db056",
   "metadata": {},
   "source": [
    "This would be inconsistent with the CAPM because according to CAPM the market is supposed to be the efficient frontier but an investment with a higher Sharpe ratio than the market is a violation of this."
   ]
  },
  {
   "cell_type": "markdown",
   "id": "c82adefc-a007-4f3e-a8d7-d46d9843303f",
   "metadata": {},
   "source": [
    "### 6.\n",
    "\n",
    "Which is more useful in assessing the model’s fit for pricing: the r-squared of the time-series regressions, the r-squared of the cross-sectional regression, or neither?"
   ]
  },
  {
   "cell_type": "markdown",
   "id": "24b7fb98",
   "metadata": {},
   "source": [
    "The r-squared of the cross-sectional regression will generally be more useful because it gives the variation in average returns that is explained by the variation in betas. This is useful in understanding returns across all assets rather than the time-series of just one asset."
   ]
  },
  {
   "cell_type": "markdown",
   "id": "7f86b988-7f73-4abd-bf5b-503c65afa840",
   "metadata": {},
   "source": [
    "### 7.\n",
    "\n",
    "GMO stated that they had a “contrarian” investment style. What did they mean by this? Was this seen in our investigation of the fund, GMWAX?"
   ]
  },
  {
   "cell_type": "markdown",
   "id": "cbd1d97b",
   "metadata": {},
   "source": [
    "They stated they had contrarian investment style because they used a long-term value oriented investment style where they made 7 year forecasts of assets. This was seen in our investigation because they acheived much better sharpe ratio compared to the market (higher returns and lower volatility)"
   ]
  },
  {
   "cell_type": "markdown",
   "id": "cf2f17f1-b26e-4cd6-8fc8-88b7f270c92b",
   "metadata": {},
   "source": [
    "### 8.\n",
    "\n",
    "How does Harvard make their portfolio allocation more realistic than a basic mean- variance optimization would imply? Is their approach easily implemented and computed from a numerical standpoint?"
   ]
  },
  {
   "cell_type": "markdown",
   "id": "ac93906a",
   "metadata": {},
   "source": [
    "Harvard's analysis incorporates portfolio constraints that investors might face, such as minimum and maximum positions. They take these constraints into account in their calculation to produce a more realistic efficient frontier. Their approach is easily implemented from a numerical standpoint because it is still a linear optimization problem."
   ]
  },
  {
   "cell_type": "markdown",
   "id": "3a001e9c-5f43-4de3-bacd-15827b4f0edd",
   "metadata": {},
   "source": [
    "### 9.\n",
    "\n",
    "If we want to hedge a portfolio's returns with respect to SPY, how could we calculate the optimal ratio? How would this ratio then be used to build the hedged position?"
   ]
  },
  {
   "cell_type": "markdown",
   "id": "134e8a52",
   "metadata": {},
   "source": [
    "We would caculate the optimal ratio by collecting historical data and running a regression to calculate the optimal hedge ration. To build the hedged position we would take a short position that is the hedge ration times the value of the portfolio. "
   ]
  },
  {
   "cell_type": "markdown",
   "id": "c40c1ff5-a5df-447e-881e-ddd3823187d7",
   "metadata": {},
   "source": [
    "### 10.\n",
    "\n",
    "Name one way in which Fama and French construct the factors that helps reduce cross- factor correlation."
   ]
  },
  {
   "cell_type": "markdown",
   "id": "0b5c80c2",
   "metadata": {},
   "source": [
    "Fama and French reduce the cross-factor correlation by choosing factors that are orthogonal ie very unrelated. By choosing factors that are very unrelated, Fama and French reduce the cross factor correlation."
   ]
  },
  {
   "cell_type": "markdown",
   "id": "55e42346",
   "metadata": {},
   "source": [
    "***"
   ]
  },
  {
   "cell_type": "markdown",
   "id": "2d66389e",
   "metadata": {},
   "source": [
    "# 2. Allocation\n"
   ]
  },
  {
   "cell_type": "markdown",
   "id": "68b67603",
   "metadata": {},
   "source": [
    "Consider a mean-variance optimization of **excess** returns provided in `midterm_data.xlsx.`"
   ]
  },
  {
   "cell_type": "markdown",
   "id": "ebe496df",
   "metadata": {},
   "source": [
    "### 1. \n",
    "\n",
    "Report the following **annualized** statistics:\n",
    "* mean\n",
    "* volatility\n",
    "* Sharpe ratio"
   ]
  },
  {
   "cell_type": "code",
   "execution_count": 5,
   "id": "650e8dcd",
   "metadata": {},
   "outputs": [
    {
     "data": {
      "text/html": [
       "<div>\n",
       "<style scoped>\n",
       "    .dataframe tbody tr th:only-of-type {\n",
       "        vertical-align: middle;\n",
       "    }\n",
       "\n",
       "    .dataframe tbody tr th {\n",
       "        vertical-align: top;\n",
       "    }\n",
       "\n",
       "    .dataframe thead th {\n",
       "        text-align: right;\n",
       "    }\n",
       "</style>\n",
       "<table border=\"1\" class=\"dataframe\">\n",
       "  <thead>\n",
       "    <tr style=\"text-align: right;\">\n",
       "      <th></th>\n",
       "      <th>Annualized Mean</th>\n",
       "      <th>Annualized Volatility</th>\n",
       "      <th>Annualized Sharpe Ratio</th>\n",
       "    </tr>\n",
       "  </thead>\n",
       "  <tbody>\n",
       "    <tr>\n",
       "      <th>NVDA</th>\n",
       "      <td>0.150152</td>\n",
       "      <td>0.224866</td>\n",
       "      <td>0.667739</td>\n",
       "    </tr>\n",
       "    <tr>\n",
       "      <th>MSFT</th>\n",
       "      <td>0.066482</td>\n",
       "      <td>0.115391</td>\n",
       "      <td>0.576142</td>\n",
       "    </tr>\n",
       "    <tr>\n",
       "      <th>AAPL</th>\n",
       "      <td>0.073712</td>\n",
       "      <td>0.136373</td>\n",
       "      <td>0.540520</td>\n",
       "    </tr>\n",
       "    <tr>\n",
       "      <th>TSLA</th>\n",
       "      <td>0.131476</td>\n",
       "      <td>0.291606</td>\n",
       "      <td>0.450868</td>\n",
       "    </tr>\n",
       "    <tr>\n",
       "      <th>AMZN</th>\n",
       "      <td>0.055259</td>\n",
       "      <td>0.149106</td>\n",
       "      <td>0.370604</td>\n",
       "    </tr>\n",
       "    <tr>\n",
       "      <th>GOOGL</th>\n",
       "      <td>0.044614</td>\n",
       "      <td>0.131730</td>\n",
       "      <td>0.338681</td>\n",
       "    </tr>\n",
       "    <tr>\n",
       "      <th>XOM</th>\n",
       "      <td>0.028661</td>\n",
       "      <td>0.149694</td>\n",
       "      <td>0.191461</td>\n",
       "    </tr>\n",
       "  </tbody>\n",
       "</table>\n",
       "</div>"
      ],
      "text/plain": [
       "       Annualized Mean  Annualized Volatility  Annualized Sharpe Ratio\n",
       "NVDA          0.150152               0.224866                 0.667739\n",
       "MSFT          0.066482               0.115391                 0.576142\n",
       "AAPL          0.073712               0.136373                 0.540520\n",
       "TSLA          0.131476               0.291606                 0.450868\n",
       "AMZN          0.055259               0.149106                 0.370604\n",
       "GOOGL         0.044614               0.131730                 0.338681\n",
       "XOM           0.028661               0.149694                 0.191461"
      ]
     },
     "metadata": {},
     "output_type": "display_data"
    }
   ],
   "source": [
    "def summary_stats(rets, adj_factor=12):\n",
    "    \"\"\"\n",
    "    Given a dataframe of returns, this function returns a dataframe with\n",
    "    a summary of performance statistics for individual securities.\n",
    "    \"\"\"\n",
    "    stats = {}\n",
    "    \n",
    "    stats['Annualized Mean'] = rets.mean() * adj_factor\n",
    "    stats['Annualized Volatility'] = rets.std() * np.sqrt(adj_factor)\n",
    "    stats['Annualized Sharpe Ratio'] = (stats['Annualized Mean'] / stats['Annualized Volatility'])\n",
    "    \n",
    "    return pd.DataFrame(stats, index=rets.columns)\n",
    "\n",
    "stats = summary_stats(retsx).sort_values(\"Annualized Sharpe Ratio\", ascending=False)\n",
    "\n",
    "display(stats)"
   ]
  },
  {
   "cell_type": "markdown",
   "id": "0bbedca6-c330-413e-a39d-8f90ab671df2",
   "metadata": {},
   "source": [
    "### 2.\n",
    "\n",
    "Report the weights of the tangency portfolio."
   ]
  },
  {
   "cell_type": "code",
   "execution_count": 6,
   "id": "0215c0e9",
   "metadata": {},
   "outputs": [
    {
     "data": {
      "text/html": [
       "<div>\n",
       "<style scoped>\n",
       "    .dataframe tbody tr th:only-of-type {\n",
       "        vertical-align: middle;\n",
       "    }\n",
       "\n",
       "    .dataframe tbody tr th {\n",
       "        vertical-align: top;\n",
       "    }\n",
       "\n",
       "    .dataframe thead th {\n",
       "        text-align: right;\n",
       "    }\n",
       "</style>\n",
       "<table border=\"1\" class=\"dataframe\">\n",
       "  <thead>\n",
       "    <tr style=\"text-align: right;\">\n",
       "      <th></th>\n",
       "      <th>Tangency Portfolio</th>\n",
       "    </tr>\n",
       "  </thead>\n",
       "  <tbody>\n",
       "    <tr>\n",
       "      <th>MSFT</th>\n",
       "      <td>0.79</td>\n",
       "    </tr>\n",
       "    <tr>\n",
       "      <th>NVDA</th>\n",
       "      <td>0.50</td>\n",
       "    </tr>\n",
       "    <tr>\n",
       "      <th>AAPL</th>\n",
       "      <td>0.32</td>\n",
       "    </tr>\n",
       "    <tr>\n",
       "      <th>TSLA</th>\n",
       "      <td>0.11</td>\n",
       "    </tr>\n",
       "    <tr>\n",
       "      <th>XOM</th>\n",
       "      <td>0.02</td>\n",
       "    </tr>\n",
       "    <tr>\n",
       "      <th>AMZN</th>\n",
       "      <td>-0.23</td>\n",
       "    </tr>\n",
       "    <tr>\n",
       "      <th>GOOGL</th>\n",
       "      <td>-0.50</td>\n",
       "    </tr>\n",
       "  </tbody>\n",
       "</table>\n",
       "</div>"
      ],
      "text/plain": [
       "       Tangency Portfolio\n",
       "MSFT                 0.79\n",
       "NVDA                 0.50\n",
       "AAPL                 0.32\n",
       "TSLA                 0.11\n",
       "XOM                  0.02\n",
       "AMZN                -0.23\n",
       "GOOGL               -0.50"
      ]
     },
     "metadata": {},
     "output_type": "display_data"
    }
   ],
   "source": [
    "def tan_portfolio(mean_rets, cov_matrix):\n",
    "    \"\"\"\n",
    "    Given a vector of mean returns and a covariance matrix of returns, this function returns\n",
    "    a vector of tangency portfolio weights.\n",
    "    \"\"\"\n",
    "    inv_cov = np.linalg.inv(cov_matrix)\n",
    "    ones = np.ones(mean_rets.shape)\n",
    "    return (inv_cov @ mean_rets) / (ones.T @ inv_cov @ mean_rets)\n",
    "\n",
    "\n",
    "def gmv_portfolio(cov_matrix):\n",
    "    \"\"\"\n",
    "    Given a covariance matrix of returns, this function returns a vector of GMV portfolio weights.\n",
    "    \"\"\"\n",
    "    try:\n",
    "        cov_inv = np.linalg.inv(cov_matrix)\n",
    "    except TypeError:\n",
    "        cov_inv = np.linalg.inv(np.array(cov_matrix))\n",
    "\n",
    "    one_vector = np.ones(len(cov_matrix.index))\n",
    "    return cov_inv @ one_vector / (one_vector @ cov_inv @ (one_vector))\n",
    "\n",
    "\n",
    "def mv_portfolio(mean_rets, cov_matrix, target=None):\n",
    "    \"\"\"\n",
    "    Given a vector of mean returns and a covariance matrix of returns, this function returns\n",
    "    a vector of MV portfolio weights.\n",
    "    \"\"\"\n",
    "    w_tan = tan_portfolio(mean_rets, cov_matrix)\n",
    "\n",
    "    if target is None:\n",
    "        return w_tan\n",
    "\n",
    "    w_gmv = gmv_portfolio(cov_matrix)\n",
    "    delta = (target - mean_rets @ w_gmv) / (mean_rets @ w_tan - mean_rets @ w_gmv)\n",
    "    return delta * w_tan + (1 - delta) * w_gmv\n",
    "\n",
    "pd.options.display.float_format = '{:.2f}'.format\n",
    "\n",
    "w_tan = mv_portfolio(retsx.mean(), retsx.cov())\n",
    "w_tan_df = pd.DataFrame(w_tan, index=retsx.columns, columns=['Tangency Portfolio'])\n",
    "display(w_tan_df.sort_values(by='Tangency Portfolio', ascending=False))"
   ]
  },
  {
   "cell_type": "markdown",
   "id": "c2cbc4af-b1f8-4955-bc99-66b04f1ed658",
   "metadata": {},
   "source": [
    "### 3.\n",
    "Report the Sharpe ratio achieved by the tangency portfolio over this sample. Annualize it (accounting for weekly data.)"
   ]
  },
  {
   "cell_type": "code",
   "execution_count": 7,
   "id": "41b8697a",
   "metadata": {},
   "outputs": [
    {
     "data": {
      "text/html": [
       "<div>\n",
       "<style scoped>\n",
       "    .dataframe tbody tr th:only-of-type {\n",
       "        vertical-align: middle;\n",
       "    }\n",
       "\n",
       "    .dataframe tbody tr th {\n",
       "        vertical-align: top;\n",
       "    }\n",
       "\n",
       "    .dataframe thead th {\n",
       "        text-align: right;\n",
       "    }\n",
       "</style>\n",
       "<table border=\"1\" class=\"dataframe\">\n",
       "  <thead>\n",
       "    <tr style=\"text-align: right;\">\n",
       "      <th></th>\n",
       "      <th>Annualized Mean</th>\n",
       "      <th>Annualized Volatility</th>\n",
       "      <th>Annualized Sharpe Ratio</th>\n",
       "    </tr>\n",
       "  </thead>\n",
       "  <tbody>\n",
       "    <tr>\n",
       "      <th>Tangency Portfolio</th>\n",
       "      <td>0.13</td>\n",
       "      <td>0.17</td>\n",
       "      <td>0.76</td>\n",
       "    </tr>\n",
       "  </tbody>\n",
       "</table>\n",
       "</div>"
      ],
      "text/plain": [
       "                    Annualized Mean  Annualized Volatility  \\\n",
       "Tangency Portfolio             0.13                   0.17   \n",
       "\n",
       "                    Annualized Sharpe Ratio  \n",
       "Tangency Portfolio                     0.76  "
      ]
     },
     "metadata": {},
     "output_type": "display_data"
    }
   ],
   "source": [
    "w_tan_rets = retsx @ w_tan_df\n",
    "tan_summ = summary_stats(w_tan_rets)\n",
    "display(tan_summ)"
   ]
  },
  {
   "cell_type": "markdown",
   "id": "eb1bab65",
   "metadata": {},
   "source": [
    "### 4.\n",
    "\n",
    "* What weight is given to the asset with the lowest Sharpe ratio?\n",
    "* What Sharpe ratio does the lowest (most negative) weight asset have?\n",
    "\n",
    "Explain why the weights are not most extreme for the assets with the largest/smallest Share Ratios."
   ]
  },
  {
   "cell_type": "markdown",
   "id": "cb37a84c",
   "metadata": {},
   "source": [
    "a.) XOM had the lowest sharpe ratio of 0.19 ,and is given a weight of 0.02\n",
    "b.) The most negative weight asset is GOOG which has a sharpe ratio of 0.33\n",
    "\n",
    "The weights are not most extreme for assets with the largest and smallest sharpe ratios because the optimzation will not simply maximize assets with higher sharpe ratio. It will also hedge assets against each other and make sure the volatility is not too high.  "
   ]
  },
  {
   "cell_type": "markdown",
   "id": "f39c17ae-0af8-4a89-a27a-a199c0ce2c77",
   "metadata": {},
   "source": [
    "### 5.\n",
    "\n",
    "To target a mean return of `0.001` weekly, would you be invested in the risk-free rate or borrowing from the risk-free rate?"
   ]
  },
  {
   "cell_type": "markdown",
   "id": "0c94e526",
   "metadata": {},
   "source": [
    "No asset is completely risk free other than straight cash which does not achieve 0.001 weekly. Therefore, we would need to borrow from the risk free rate and invest in assets which will acheive 0.001 weekly returns. 0.001 is not very high however, so we can probably invest in bonds or other low risk assets with out taking a risk on higher risk options."
   ]
  },
  {
   "cell_type": "markdown",
   "id": "30cdbfa9",
   "metadata": {},
   "source": [
    "***"
   ]
  },
  {
   "cell_type": "markdown",
   "id": "a34d9fbd",
   "metadata": {},
   "source": [
    "# 3. Performance"
   ]
  },
  {
   "cell_type": "markdown",
   "id": "426af123",
   "metadata": {},
   "source": [
    "### 1. \n",
    "\n",
    "Report the following performance metrics of excess returns for Tesla (`TSLA`).\n",
    "* skewness\n",
    "* kurtosis\n",
    "\n",
    "You are not annualizing any of these stats.\n",
    "\n",
    "What do these metrics indicate about the nature of the returns?"
   ]
  },
  {
   "cell_type": "code",
   "execution_count": 26,
   "id": "a2a40f70",
   "metadata": {},
   "outputs": [
    {
     "data": {
      "text/html": [
       "<div>\n",
       "<style scoped>\n",
       "    .dataframe tbody tr th:only-of-type {\n",
       "        vertical-align: middle;\n",
       "    }\n",
       "\n",
       "    .dataframe tbody tr th {\n",
       "        vertical-align: top;\n",
       "    }\n",
       "\n",
       "    .dataframe thead th {\n",
       "        text-align: right;\n",
       "    }\n",
       "</style>\n",
       "<table border=\"1\" class=\"dataframe\">\n",
       "  <thead>\n",
       "    <tr style=\"text-align: right;\">\n",
       "      <th></th>\n",
       "      <th>Skewness</th>\n",
       "      <th>Kurtosis</th>\n",
       "    </tr>\n",
       "  </thead>\n",
       "  <tbody>\n",
       "    <tr>\n",
       "      <th>TSLA</th>\n",
       "      <td>0.44</td>\n",
       "      <td>1.53</td>\n",
       "    </tr>\n",
       "  </tbody>\n",
       "</table>\n",
       "</div>"
      ],
      "text/plain": [
       "      Skewness  Kurtosis\n",
       "TSLA      0.44      1.53"
      ]
     },
     "metadata": {},
     "output_type": "display_data"
    }
   ],
   "source": [
    "def risk_stats(rets):\n",
    "    \"\"\"\n",
    "    \"\"\"\n",
    "    stats = {}\n",
    "    \n",
    "    stats['Skewness'] = rets.skew()\n",
    "    stats['Kurtosis'] = rets.kurtosis()\n",
    "    \n",
    "    \n",
    "    return pd.DataFrame(stats, index=rets.columns)\n",
    "\n",
    "stats = risk_stats(pd.DataFrame(retsx['TSLA']))\n",
    "display(stats)"
   ]
  },
  {
   "cell_type": "markdown",
   "id": "877253fc",
   "metadata": {},
   "source": [
    "### 2. \n",
    "\n",
    "Report the maximum drawdown for `TSLA` over the sample.\n",
    "* Ignore that your data is in excess returns rather than total returns.\n",
    "* Simply proceed with the excess return data for this calculation."
   ]
  },
  {
   "cell_type": "code",
   "execution_count": 28,
   "id": "372f6c4c",
   "metadata": {},
   "outputs": [
    {
     "data": {
      "text/html": [
       "<div>\n",
       "<style scoped>\n",
       "    .dataframe tbody tr th:only-of-type {\n",
       "        vertical-align: middle;\n",
       "    }\n",
       "\n",
       "    .dataframe tbody tr th {\n",
       "        vertical-align: top;\n",
       "    }\n",
       "\n",
       "    .dataframe thead th {\n",
       "        text-align: right;\n",
       "    }\n",
       "</style>\n",
       "<table border=\"1\" class=\"dataframe\">\n",
       "  <thead>\n",
       "    <tr style=\"text-align: right;\">\n",
       "      <th></th>\n",
       "      <th>Min</th>\n",
       "      <th>Max</th>\n",
       "      <th>Peak</th>\n",
       "      <th>Bottom</th>\n",
       "      <th>Recovery</th>\n",
       "      <th>Duration (days)</th>\n",
       "    </tr>\n",
       "  </thead>\n",
       "  <tbody>\n",
       "    <tr>\n",
       "      <th>TSLA</th>\n",
       "      <td>-0.28</td>\n",
       "      <td>0.33</td>\n",
       "      <td>2021-11-05</td>\n",
       "      <td>2023-01-06</td>\n",
       "      <td>-</td>\n",
       "      <td>-</td>\n",
       "    </tr>\n",
       "  </tbody>\n",
       "</table>\n",
       "</div>"
      ],
      "text/plain": [
       "       Min  Max       Peak     Bottom Recovery Duration (days)\n",
       "TSLA -0.28 0.33 2021-11-05 2023-01-06        -               -"
      ]
     },
     "metadata": {},
     "output_type": "display_data"
    },
    {
     "name": "stdout",
     "output_type": "stream",
     "text": [
      "Max Drawdown is: \n",
      "TSLA   0.62\n",
      "dtype: float64\n"
     ]
    }
   ],
   "source": [
    "def drawdown(rets):\n",
    "    \"\"\"\n",
    "    \"\"\"\n",
    "    stats = {}\n",
    "    \n",
    "\n",
    "    stats[\"Min\"] = rets.min()\n",
    "    stats[\"Max\"] = rets.max()\n",
    "    cum_prod = (1+ rets).cumprod()\n",
    "    cum_max = cum_prod.cummax()\n",
    "    drawdowns = (cum_prod - cum_max) / cum_max\n",
    "    stats[\"Peak\"] = cum_prod.idxmax()\n",
    "    stats[\"Bottom\"] = drawdowns.idxmin()\n",
    "\n",
    "    cum_prod = (1+rets).cumprod()\n",
    "    #display(cum_prod)\n",
    "    cum_max = cum_prod.cummax()\n",
    "    #display(cum_max)\n",
    "    drawdowns = (cum_prod - cum_max)\n",
    "    #display(drawdowns)\n",
    "    drawdowns.idxmin()\n",
    "    recovery_date = []\n",
    "    for col in cum_prod.columns:\n",
    "        prev_max = cum_max[col][: drawdowns[col].idxmin()].max()\n",
    "        recovery_wealth = pd.DataFrame([cum_prod[col][drawdowns[col].idxmin() :]]).T\n",
    "        recovery_date.append(\n",
    "            recovery_wealth[recovery_wealth[col] >= prev_max].index.min()\n",
    "        )\n",
    "    stats[\"Recovery\"] = [\"-\" if pd.isnull(i) else i for i in recovery_date]\n",
    "\n",
    "    stats[\"Duration (days)\"] = [\n",
    "        (i - j).days if i != \"-\" else \"-\"\n",
    "        for i, j in zip(stats[\"Recovery\"], stats[\"Bottom\"])\n",
    "    ]\n",
    "    \n",
    "    \n",
    "    return pd.DataFrame(stats, index=rets.columns)\n",
    "\n",
    "stats = drawdown(pd.DataFrame(retsx['TSLA']))\n",
    "\n",
    "display(stats)\n",
    "print(\"Max Drawdown is: \")\n",
    "print(stats['Max'] - stats['Min'])"
   ]
  },
  {
   "cell_type": "markdown",
   "id": "20d77a74",
   "metadata": {},
   "source": [
    "### 3.\n",
    "\n",
    "For `TSLA`, calculate the following metrics, relative to `SPY`:\n",
    "* market beta\n",
    "* alpha\n",
    "* information ratio\n",
    "\n",
    "Annualize alpha and information ratio.\n",
    "\n",
    "*Recall that this is weekly data, with 52 weeks per year.*"
   ]
  },
  {
   "cell_type": "code",
   "execution_count": 31,
   "id": "d7438782",
   "metadata": {},
   "outputs": [
    {
     "data": {
      "text/html": [
       "<div>\n",
       "<style scoped>\n",
       "    .dataframe tbody tr th:only-of-type {\n",
       "        vertical-align: middle;\n",
       "    }\n",
       "\n",
       "    .dataframe tbody tr th {\n",
       "        vertical-align: top;\n",
       "    }\n",
       "\n",
       "    .dataframe thead th {\n",
       "        text-align: right;\n",
       "    }\n",
       "</style>\n",
       "<table border=\"1\" class=\"dataframe\">\n",
       "  <thead>\n",
       "    <tr style=\"text-align: right;\">\n",
       "      <th></th>\n",
       "      <th>Market Beta</th>\n",
       "      <th>Treynor Ratio</th>\n",
       "      <th>Information Ratio</th>\n",
       "    </tr>\n",
       "  </thead>\n",
       "  <tbody>\n",
       "    <tr>\n",
       "      <th>TSLA</th>\n",
       "      <td>1.78</td>\n",
       "      <td>0.07</td>\n",
       "      <td>0.29</td>\n",
       "    </tr>\n",
       "  </tbody>\n",
       "</table>\n",
       "</div>"
      ],
      "text/plain": [
       "      Market Beta  Treynor Ratio  Information Ratio\n",
       "TSLA         1.78           0.07               0.29"
      ]
     },
     "metadata": {},
     "output_type": "display_data"
    }
   ],
   "source": [
    "def univariate_regression(y, X, intercept = True, adj = 12):\n",
    "    if intercept:\n",
    "        X = sm.add_constant(X)\n",
    "        \n",
    "    model = sm.OLS(y, X, missing = 'drop')\n",
    "    results = model.fit()\n",
    "    intercept = results.params[0] if intercept else 0\n",
    "    beta = results.params[1] if intercept else results.params[0]\n",
    "\n",
    "    summary = {}\n",
    "    summary['Market Beta'] = beta\n",
    "    summary['Treynor Ratio'] = (y.mean() / beta) * adj\n",
    "    summary['Information Ratio'] = (intercept / results.resid.std()) * np.sqrt(adj)\n",
    "\n",
    "    return pd.DataFrame(summary, index = [y.name])\n",
    "\n",
    "def iterative_regression(y, X, intercept = True, one_to_many = False, adj = 12):\n",
    "    if one_to_many:\n",
    "        summary = pd.concat([univariate_regression(y[col], X, intercept, adj) for col in y.columns], axis = 0)\n",
    "        summary.index = y.columns\n",
    "        return summary\n",
    "    else:\n",
    "        summary = pd.concat([univariate_regression(y, X[col], intercept, adj) for col in X.columns], axis = 0)\n",
    "        summary.index = X.columns\n",
    "        return summary\n",
    "\n",
    "\n",
    "regression_metrics_hfs = iterative_regression(pd.DataFrame(retsx['TSLA']), spy, one_to_many = True, adj = 12)\n",
    "display(regression_metrics_hfs)"
   ]
  },
  {
   "cell_type": "markdown",
   "id": "695093a0-4a01-4d80-be8c-b5380ca50ea3",
   "metadata": {},
   "source": [
    "### 4.\n",
    "\n",
    "Comment on what you conclude about `TSLA` based on the statistics calculated in the previous question."
   ]
  },
  {
   "cell_type": "markdown",
   "id": "2da22a94",
   "metadata": {},
   "source": [
    "Market beta of 1.78 indicates that 'TSLA' is more volatile than the rest of the SPY. This is because market beta measures the volatility compared relative to SPY. The Treynor ratio is low but positive (0.07). This indicates that 'TSLA' has generated a return that exceeds what would be expected given its market risk but only slightly and did not deliver exceptional returns for its risk. Information ratio measures performance of a stock of fund above the benchmark. In this case a information ration of 0.29 indicates that 'TSLA' performed 29% better than SPY which is a positive result for 'TSLA'"
   ]
  },
  {
   "cell_type": "markdown",
   "id": "efee2bb2",
   "metadata": {},
   "source": [
    "***"
   ]
  },
  {
   "cell_type": "markdown",
   "id": "9bfde231-ece9-4d63-bf5c-f3d8154269bb",
   "metadata": {},
   "source": [
    "# 4. Forecasting"
   ]
  },
  {
   "cell_type": "markdown",
   "id": "d7910055-2d9f-4898-b56c-71236182f98d",
   "metadata": {},
   "source": [
    "Forecast (total) returns on oil as tracked by the ETF ticker, `USO`. \n",
    "\n",
    "As signals, use two interest rate signals, as seen in Treasury-notes. (No need to consider anything specific about Treasury notes, just read these as macroeconomic signals.)\n",
    "* T-note rate\n",
    "* month-over-month change in the T-note rate\n",
    "\n",
    "Find the all data needed for this problem in the sheet `forecasting`.\n",
    "\n",
    "Note that the data in this sheet is monthly, not weekly."
   ]
  },
  {
   "cell_type": "markdown",
   "id": "43b51c40-a422-45dd-8626-72b20fe28315",
   "metadata": {},
   "source": [
    "### 1.\n",
    "\n",
    "Estimate a forecasting regression of $\\targ$ on the two (lagged) signals.\n",
    "\n",
    "$$r_{t+1}^{\\targ} = \\alpha + \\beta^{x}x_t + \\beta^z z_t + \\epsilon_{t+1}$$\n",
    "\n",
    "where\n",
    "* $x$ denotes the interest-rate signal.\n",
    "* $z$ denotes the change in rate signal.\n",
    "\n",
    "Report the r-squared, as well as the OLS estimates for the intercept and the two betas. (No need to annualize the stats.)"
   ]
  },
  {
   "cell_type": "code",
   "execution_count": 43,
   "id": "db7b742f",
   "metadata": {},
   "outputs": [
    {
     "name": "stdout",
     "output_type": "stream",
     "text": [
      "--------------------------------------------------\n",
      "Multivariate Regression Summary\n"
     ]
    },
    {
     "data": {
      "text/html": [
       "<div>\n",
       "<style scoped>\n",
       "    .dataframe tbody tr th:only-of-type {\n",
       "        vertical-align: middle;\n",
       "    }\n",
       "\n",
       "    .dataframe tbody tr th {\n",
       "        vertical-align: top;\n",
       "    }\n",
       "\n",
       "    .dataframe thead th {\n",
       "        text-align: right;\n",
       "    }\n",
       "</style>\n",
       "<table border=\"1\" class=\"dataframe\">\n",
       "  <thead>\n",
       "    <tr style=\"text-align: right;\">\n",
       "      <th></th>\n",
       "      <th>0</th>\n",
       "      <th>1</th>\n",
       "      <th>2</th>\n",
       "      <th>3</th>\n",
       "    </tr>\n",
       "  </thead>\n",
       "  <tbody>\n",
       "    <tr>\n",
       "      <th>const</th>\n",
       "      <td>-0.00</td>\n",
       "      <td>-0.00</td>\n",
       "      <td>-0.00</td>\n",
       "      <td>NaN</td>\n",
       "    </tr>\n",
       "    <tr>\n",
       "      <th>Tnote rate</th>\n",
       "      <td>0.00</td>\n",
       "      <td>1.00</td>\n",
       "      <td>-0.00</td>\n",
       "      <td>NaN</td>\n",
       "    </tr>\n",
       "    <tr>\n",
       "      <th>Tnote rate change</th>\n",
       "      <td>0.16</td>\n",
       "      <td>0.00</td>\n",
       "      <td>1.00</td>\n",
       "      <td>NaN</td>\n",
       "    </tr>\n",
       "  </tbody>\n",
       "</table>\n",
       "</div>"
      ],
      "text/plain": [
       "                      0     1     2   3\n",
       "const             -0.00 -0.00 -0.00 NaN\n",
       "Tnote rate         0.00  1.00 -0.00 NaN\n",
       "Tnote rate change  0.16  0.00  1.00 NaN"
      ]
     },
     "metadata": {},
     "output_type": "display_data"
    },
    {
     "ename": "ValueError",
     "evalue": "shapes (175,4) and (175,4) not aligned: 4 (dim 1) != 175 (dim 0)",
     "output_type": "error",
     "traceback": [
      "\u001b[0;31m---------------------------------------------------------------------------\u001b[0m",
      "\u001b[0;31mValueError\u001b[0m                                Traceback (most recent call last)",
      "Input \u001b[0;32mIn [43]\u001b[0m, in \u001b[0;36m<cell line: 9>\u001b[0;34m()\u001b[0m\n\u001b[1;32m      7\u001b[0m \u001b[38;5;28mprint\u001b[39m(\u001b[38;5;124m'\u001b[39m\u001b[38;5;124mMultivariate Regression Summary\u001b[39m\u001b[38;5;124m'\u001b[39m)\n\u001b[1;32m      8\u001b[0m display(multi_regr\u001b[38;5;241m.\u001b[39mparams)\n\u001b[0;32m----> 9\u001b[0m \u001b[38;5;28mprint\u001b[39m(\u001b[38;5;124mf\u001b[39m\u001b[38;5;124m'\u001b[39m\u001b[38;5;124mR^2: \u001b[39m\u001b[38;5;132;01m{\u001b[39;00mmulti_regr\u001b[38;5;241m.\u001b[39mrsquared\u001b[38;5;132;01m:\u001b[39;00m\u001b[38;5;124m.4f\u001b[39m\u001b[38;5;132;01m}\u001b[39;00m\u001b[38;5;124m'\u001b[39m)\n",
      "File \u001b[0;32m~/opt/anaconda3/lib/python3.9/site-packages/statsmodels/base/wrapper.py:34\u001b[0m, in \u001b[0;36mResultsWrapper.__getattribute__\u001b[0;34m(self, attr)\u001b[0m\n\u001b[1;32m     31\u001b[0m \u001b[38;5;28;01mexcept\u001b[39;00m \u001b[38;5;167;01mAttributeError\u001b[39;00m:\n\u001b[1;32m     32\u001b[0m     \u001b[38;5;28;01mpass\u001b[39;00m\n\u001b[0;32m---> 34\u001b[0m obj \u001b[38;5;241m=\u001b[39m \u001b[38;5;28;43mgetattr\u001b[39;49m\u001b[43m(\u001b[49m\u001b[43mresults\u001b[49m\u001b[43m,\u001b[49m\u001b[43m \u001b[49m\u001b[43mattr\u001b[49m\u001b[43m)\u001b[49m\n\u001b[1;32m     35\u001b[0m data \u001b[38;5;241m=\u001b[39m results\u001b[38;5;241m.\u001b[39mmodel\u001b[38;5;241m.\u001b[39mdata\n\u001b[1;32m     36\u001b[0m how \u001b[38;5;241m=\u001b[39m \u001b[38;5;28mself\u001b[39m\u001b[38;5;241m.\u001b[39m_wrap_attrs\u001b[38;5;241m.\u001b[39mget(attr)\n",
      "File \u001b[0;32m~/opt/anaconda3/lib/python3.9/site-packages/pandas/_libs/properties.pyx:37\u001b[0m, in \u001b[0;36mpandas._libs.properties.CachedProperty.__get__\u001b[0;34m()\u001b[0m\n",
      "File \u001b[0;32m~/opt/anaconda3/lib/python3.9/site-packages/statsmodels/regression/linear_model.py:1736\u001b[0m, in \u001b[0;36mRegressionResults.rsquared\u001b[0;34m(self)\u001b[0m\n\u001b[1;32m   1728\u001b[0m \u001b[38;5;250m\u001b[39m\u001b[38;5;124;03m\"\"\"\u001b[39;00m\n\u001b[1;32m   1729\u001b[0m \u001b[38;5;124;03mR-squared of the model.\u001b[39;00m\n\u001b[1;32m   1730\u001b[0m \n\u001b[0;32m   (...)\u001b[0m\n\u001b[1;32m   1733\u001b[0m \u001b[38;5;124;03momitted.\u001b[39;00m\n\u001b[1;32m   1734\u001b[0m \u001b[38;5;124;03m\"\"\"\u001b[39;00m\n\u001b[1;32m   1735\u001b[0m \u001b[38;5;28;01mif\u001b[39;00m \u001b[38;5;28mself\u001b[39m\u001b[38;5;241m.\u001b[39mk_constant:\n\u001b[0;32m-> 1736\u001b[0m     \u001b[38;5;28;01mreturn\u001b[39;00m \u001b[38;5;241m1\u001b[39m \u001b[38;5;241m-\u001b[39m \u001b[38;5;28;43mself\u001b[39;49m\u001b[38;5;241;43m.\u001b[39;49m\u001b[43mssr\u001b[49m\u001b[38;5;241m/\u001b[39m\u001b[38;5;28mself\u001b[39m\u001b[38;5;241m.\u001b[39mcentered_tss\n\u001b[1;32m   1737\u001b[0m \u001b[38;5;28;01melse\u001b[39;00m:\n\u001b[1;32m   1738\u001b[0m     \u001b[38;5;28;01mreturn\u001b[39;00m \u001b[38;5;241m1\u001b[39m \u001b[38;5;241m-\u001b[39m \u001b[38;5;28mself\u001b[39m\u001b[38;5;241m.\u001b[39mssr\u001b[38;5;241m/\u001b[39m\u001b[38;5;28mself\u001b[39m\u001b[38;5;241m.\u001b[39muncentered_tss\n",
      "File \u001b[0;32m~/opt/anaconda3/lib/python3.9/site-packages/pandas/_libs/properties.pyx:37\u001b[0m, in \u001b[0;36mpandas._libs.properties.CachedProperty.__get__\u001b[0;34m()\u001b[0m\n",
      "File \u001b[0;32m~/opt/anaconda3/lib/python3.9/site-packages/statsmodels/regression/linear_model.py:1677\u001b[0m, in \u001b[0;36mRegressionResults.ssr\u001b[0;34m(self)\u001b[0m\n\u001b[1;32m   1675\u001b[0m \u001b[38;5;250m\u001b[39m\u001b[38;5;124;03m\"\"\"Sum of squared (whitened) residuals.\"\"\"\u001b[39;00m\n\u001b[1;32m   1676\u001b[0m wresid \u001b[38;5;241m=\u001b[39m \u001b[38;5;28mself\u001b[39m\u001b[38;5;241m.\u001b[39mwresid\n\u001b[0;32m-> 1677\u001b[0m \u001b[38;5;28;01mreturn\u001b[39;00m \u001b[43mnp\u001b[49m\u001b[38;5;241;43m.\u001b[39;49m\u001b[43mdot\u001b[49m\u001b[43m(\u001b[49m\u001b[43mwresid\u001b[49m\u001b[43m,\u001b[49m\u001b[43m \u001b[49m\u001b[43mwresid\u001b[49m\u001b[43m)\u001b[49m\n",
      "\u001b[0;31mValueError\u001b[0m: shapes (175,4) and (175,4) not aligned: 4 (dim 1) != 175 (dim 0)"
     ]
    }
   ],
   "source": [
    "\n",
    "\n",
    "\n",
    "# Multi-variate regression.\\\n",
    "signals = pd.concat([pd.DataFrame(forecasting['Tnote rate']), pd.DataFrame(forecasting['Tnote rate change'])], axis=1)\n",
    "multi_regr = sm.OLS(forecasting, sm.add_constant(signals)).fit()\n",
    "forecasting['Multi'] = multi_regr.params[0] + multi_regr.params[1] * forecasting['Tnote rate'] + multi_regr.params[2] * forecasting['Tnote rate change']\n",
    "\n",
    "print('-'*50)\n",
    "print('Multivariate Regression Summary')\n",
    "display(multi_regr.params)\n",
    "print(f'R^2: {multi_regr.rsquared:.4f}')"
   ]
  },
  {
   "cell_type": "markdown",
   "id": "f5cf4764-2c77-4a08-8c48-dede97175a43",
   "metadata": {},
   "source": [
    "### 2.\n",
    "\n",
    "Use your forecasted returns, $\\hat{r}^{\\targ}_{t+1}$ to build trading weights:\n",
    "\n",
    "$$w_t = 0.50 + 50\\;\\hat{r}^{\\targ}_{t+1}$$\n",
    "\n",
    "(So the rule says to hold 50% in the ETF plus/minus 50x the forecast. Recall the forecast is a monthly percentage, so it is a small number.)\n",
    "\n",
    "Calculate the return from implementing this strategy. Denote this as $r^x_t$.\n",
    "\n",
    "Report the first and last 5 values."
   ]
  },
  {
   "cell_type": "markdown",
   "id": "4a8feaf9-93df-4209-af25-1d57c31d92fd",
   "metadata": {},
   "source": [
    "### 3.\n",
    "\n",
    "Calculate the following (annualized) performance metrics for both the passive investment, $r^\\targ$, as well as the strategy implemented in the previous problem, $r^x$.\n",
    "\n",
    "* mean\n",
    "* volatility\n",
    "* max drawdown\n",
    "\n",
    "**Remember to annualize mean and volatility for monthly data.** (No need to annualize max drawdown.)"
   ]
  },
  {
   "cell_type": "code",
   "execution_count": null,
   "id": "5cfd8155",
   "metadata": {},
   "outputs": [],
   "source": [
    "# this function gives mean, volatility, max drawdown\n",
    "def performance_metrics(rets, adj_factor=12):\n",
    "    \"\"\"\n",
    "    \"\"\"\n",
    "    stats = {}\n",
    "    \n",
    "    stats['Annualized Mean'] = rets.mean() * adj_factor\n",
    "    stats['Annualized Volatility'] = rets.std() * np.sqrt(adj_factor)\n",
    "\n",
    "    stats[\"Min\"] = rets.min()\n",
    "    stats[\"Max\"] = rets.max()\n",
    "    cum_prod = (1+ rets).cumprod()\n",
    "    cum_max = cum_prod.cummax()\n",
    "    drawdowns = (cum_prod - cum_max) / cum_max\n",
    "    stats[\"Peak\"] = cum_prod.idxmax()\n",
    "    stats[\"Bottom\"] = drawdowns.idxmin()\n",
    "\n",
    "    cum_prod = (1+hf_series).cumprod()\n",
    "    #display(cum_prod)\n",
    "    cum_max = cum_prod.cummax()\n",
    "    #display(cum_max)\n",
    "    drawdowns = (cum_prod - cum_max)\n",
    "    #display(drawdowns)\n",
    "    drawdowns.idxmin()\n",
    "    recovery_date = []\n",
    "    for col in cum_prod.columns:\n",
    "        prev_max = cum_max[col][: drawdowns[col].idxmin()].max()\n",
    "        recovery_wealth = pd.DataFrame([cum_prod[col][drawdowns[col].idxmin() :]]).T\n",
    "        recovery_date.append(\n",
    "            recovery_wealth[recovery_wealth[col] >= prev_max].index.min()\n",
    "        )\n",
    "    stats[\"Recovery\"] = [\"-\" if pd.isnull(i) else i for i in recovery_date]\n",
    "\n",
    "    stats[\"Duration (days)\"] = [\n",
    "        (i - j).days if i != \"-\" else \"-\"\n",
    "        for i, j in zip(stats[\"Recovery\"], stats[\"Bottom\"])\n",
    "    ]\n",
    "    \n",
    "    \n",
    "    return pd.DataFrame(stats, index=rets.columns)"
   ]
  },
  {
   "cell_type": "markdown",
   "id": "2b2105e3-4ed2-4cea-8842-20821f86b970",
   "metadata": {},
   "source": [
    "### 4.\n",
    "\n",
    "Comment on whether the active strategy (using forecasting), $r^z$ is an improvement on the passive strategy of just holding $\\targ$ directly."
   ]
  },
  {
   "cell_type": "markdown",
   "id": "a4ed41cb",
   "metadata": {},
   "source": [
    "Need to compare the mean, volatility, and max drawdown of passive and r^z."
   ]
  }
 ],
 "metadata": {
  "hide_input": false,
  "kernelspec": {
   "display_name": "Python 3 (ipykernel)",
   "language": "python",
   "name": "python3"
  },
  "language_info": {
   "codemirror_mode": {
    "name": "ipython",
    "version": 3
   },
   "file_extension": ".py",
   "mimetype": "text/x-python",
   "name": "python",
   "nbconvert_exporter": "python",
   "pygments_lexer": "ipython3",
   "version": "3.9.12"
  }
 },
 "nbformat": 4,
 "nbformat_minor": 5
}
